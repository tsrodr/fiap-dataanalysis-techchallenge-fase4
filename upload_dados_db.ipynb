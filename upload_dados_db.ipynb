{
 "cells": [
  {
   "cell_type": "code",
   "execution_count": 7,
   "metadata": {},
   "outputs": [],
   "source": [
    "from pyspark.sql import SparkSession\n",
    "from pyspark.sql.functions import col, to_date\n",
    "import os"
   ]
  },
  {
   "cell_type": "code",
   "execution_count": 13,
   "metadata": {},
   "outputs": [],
   "source": [
    "class Processor:\n",
    "    def __init__(self, spark, host, port, database, user, password):\n",
    "        self.spark = spark\n",
    "        self.url = f\"jdbc:postgresql://{host}:{port}/{database}\"\n",
    "        self.properties = {\n",
    "            \"user\": user,\n",
    "            \"password\": password,\n",
    "            \"driver\": \"org.postgresql.Driver\"\n",
    "        }        \n",
    "\n",
    "    def load_csv(self, file_path):\n",
    "        if os.path.exists(file_path):            \n",
    "            df = self.spark.read.csv(file_path, header=True, inferSchema=True)\n",
    "            return df\n",
    "        else:\n",
    "            print(f\"Error: O Arquivo {file_path} não existe.\")\n",
    "    \n",
    "    def save_to_postgres(self, df, schema, table):\n",
    "        df.write.jdbc(url=self.url, table=f\"{schema}.{table}\", mode=\"overwrite\", properties=self.properties)\n",
    "    \n",
    "    def run(self, org_table, schema):\n",
    "        for table in org_table:\n",
    "            df = self.load_csv(table[\"file\"])\n",
    "            if table[\"table\"] == \"tb_eia366_pbrent366\":\n",
    "                if df:\n",
    "                    df = df.withColumn(\"valdata\", to_date(col(\"valdata\")))\n",
    "                    df = df.withColumn(\"valvalor\", col(\"valvalor\").cast(\"float\"))\n",
    "            self.save_to_postgres(df, schema, table[\"table\"])\n"
   ]
  },
  {
   "cell_type": "code",
   "execution_count": 14,
   "metadata": {},
   "outputs": [
    {
     "name": "stderr",
     "output_type": "stream",
     "text": [
      "                                                                                \r"
     ]
    }
   ],
   "source": [
    "spark = SparkSession.builder \\\n",
    "    .appName(\"CSV to PostgreSQL\") \\\n",
    "    .getOrCreate()\n",
    "\n",
    "host = os.getenv(\"DB_HOST\")\n",
    "port = os.getenv(\"DB_PORT\")\n",
    "database = os.getenv(\"DB_DATABASE\")\n",
    "user = os.getenv(\"DB_USER\")\n",
    "password = os.getenv(\"DB_PASSWORD\")\n",
    "schema = os.getenv(\"DB_SCHEMA\")\n",
    "org_table = [ { \"table\": \"tb_eia366_pbrent366\", \"file\": \"./output/sor/ipeadata.csv\" },\n",
    "              { \"table\": \"tb_eia366_pbrent366_forecast\", \"file\": \"./output/sor/forecast.csv\" } ]\n",
    "\n",
    "processar = Processor(spark, host, port, database, user, password)\n",
    "processar.run(org_table, schema)\n",
    "spark.stop()"
   ]
  }
 ],
 "metadata": {
  "kernelspec": {
   "display_name": ".venv",
   "language": "python",
   "name": "python3"
  },
  "language_info": {
   "codemirror_mode": {
    "name": "ipython",
    "version": 3
   },
   "file_extension": ".py",
   "mimetype": "text/x-python",
   "name": "python",
   "nbconvert_exporter": "python",
   "pygments_lexer": "ipython3",
   "version": "3.12.3"
  }
 },
 "nbformat": 4,
 "nbformat_minor": 2
}
