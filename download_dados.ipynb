{
 "cells": [
  {
   "cell_type": "code",
   "execution_count": 1,
   "metadata": {},
   "outputs": [],
   "source": [
    "import requests as req\n",
    "import pandas as pd"
   ]
  },
  {
   "cell_type": "code",
   "execution_count": 2,
   "metadata": {},
   "outputs": [],
   "source": [
    "class Ipeadata:\n",
    "    def __init__(self, url):\n",
    "        self.url = url\n",
    "\n",
    "    def _basic_api_call(self, consulta):\n",
    "        try:\n",
    "            response = req.get(consulta)\n",
    "            response.raise_for_status()\n",
    "            json_response = response.json()\n",
    "            return pd.DataFrame(json_response.get('value', []))\n",
    "        except (req.RequestException, ValueError, KeyError):\n",
    "            return None\n",
    "\n",
    "    def get_metadados(self, sercodigo=None):\n",
    "        url_partial = f\"{self.url}Metadados\"\n",
    "        if sercodigo:\n",
    "            url_partial += f\"('{sercodigo}')\"\n",
    "        return self._basic_api_call(url_partial)\n",
    "    \n",
    "    def get_valores(self, sercodigo):\n",
    "        url_partial = f\"{self.url}Metadados('{sercodigo}')/Valores\"\n",
    "        return self._basic_api_call(url_partial)"
   ]
  },
  {
   "cell_type": "code",
   "execution_count": 3,
   "metadata": {},
   "outputs": [],
   "source": [
    "link = \"http://www.ipeadata.gov.br/api/odata4/\"\n",
    "sercodigo = \"EIA366_PBRENT366\""
   ]
  },
  {
   "cell_type": "code",
   "execution_count": 5,
   "metadata": {},
   "outputs": [],
   "source": [
    "service_ipeadata = Ipeadata(link)\n",
    "df = service_ipeadata.get_valores(sercodigo)\n",
    "\n",
    "# Rename columns to lowercase\n",
    "df.columns = [col.lower() for col in df.columns]\n",
    "\n",
    "# Save the DataFrame to a CSV file\n",
    "df.to_csv('./output/sor/ipeadata.csv', index=False)"
   ]
  }
 ],
 "metadata": {
  "kernelspec": {
   "display_name": ".venv",
   "language": "python",
   "name": "python3"
  },
  "language_info": {
   "codemirror_mode": {
    "name": "ipython",
    "version": 3
   },
   "file_extension": ".py",
   "mimetype": "text/x-python",
   "name": "python",
   "nbconvert_exporter": "python",
   "pygments_lexer": "ipython3",
   "version": "3.12.3"
  }
 },
 "nbformat": 4,
 "nbformat_minor": 2
}
